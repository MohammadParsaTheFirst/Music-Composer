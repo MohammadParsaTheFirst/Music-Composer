{
 "cells": [
  {
   "cell_type": "code",
   "execution_count": 2,
   "metadata": {
    "colab": {},
    "colab_type": "code",
    "id": "yqovyQOmcmFv"
   },
   "outputs": [],
   "source": [
    "# !pip install pydub\n",
    "# !pip install sounddevice"
   ]
  },
  {
   "cell_type": "code",
   "execution_count": null,
   "metadata": {},
   "outputs": [],
   "source": [
    "import pydub\n",
    "import numpy as np\n",
    "import sounddevice as sd\n",
    "from matplotlib import pyplot as plt\n",
    "from scipy.io.wavfile import read, write"
   ]
  },
  {
   "cell_type": "markdown",
   "metadata": {
    "colab_type": "text",
    "id": "Cwp6AGsacyS3"
   },
   "source": [
    "# Sheet music to music Transformer\n",
    "\n",
    "## Signals and Systems Course Project - 14012\n",
    "\n",
    "### Dept. of Electrical Engineering, Sharif University of Tech.\n",
    "\n",
    "In this project, the goal is to implement a program with python/octave in order to transform sheet music to music. \n",
    "\n",
    "NOTE: this instruction file has been created with helps of various library documents, we respect open source library access, specially SCIPY, NUMPY official docs and STACKOVERFLOW/GITHUB forums.\n",
    "\n",
    "\n"
   ]
  },
  {
   "cell_type": "markdown",
   "metadata": {
    "colab": {},
    "colab_type": "code",
    "id": "aOpgXT4ZRG53"
   },
   "source": [
    "## Basic music theory\n",
    "\n",
    "### Bits\n",
    "\n",
    "This is list of the bits duration:\n",
    "\n",
    "* 1: Semibreve : 4x گرد\n",
    "* 2: Minim : 2x سفید\n",
    "* 3: Crotchet : 1x  سیاه\n",
    "* 4: Quaver : $\\frac{1}{2}x$ چنگ\n",
    "* 5: Semiquaver : $\\frac{1}{4}x$ دولاچنگ\n",
    "* 6: Demisemiquaver : $\\frac{1}{8}x$ سه‌لاچنگ\n",
    "\n",
    "Where x is base duration, based on type of music it is a number usually between 40 and 160 and in Bit Per Minute (BPM) units.\n",
    "\n",
    "### Notes\n",
    "\n",
    "As you may know, music has 7 main notes in different harmonics. These notes are:\n",
    "\n",
    "* 0:  A (La) = $2^{\\frac{0}{12}}F_{b}$\n",
    "* 1:  A# (La diesis) = $2^{\\frac{1}{12}}F_{b}$\n",
    "* 2:  B (Si) = $2^{\\frac{2}{12}}F_{b}$\n",
    "* 3:  C (Do) = $2^{\\frac{3}{12}}F_{b}$\n",
    "* 4:  C# (Do diesis) = $2^{\\frac{4}{12}}F_{b}$\n",
    "* 5:  D (Re) = $2^{\\frac{5}{12}}F_{b}$\n",
    "* 6:  D# (Re diesis) = $2^{\\frac{6}{12}}F_{b}$\n",
    "* 7:  E (Mi) = $2^{\\frac{7}{12}}F_{b}$\n",
    "* 8:  F (Fa) = $2^{\\frac{8}{12}}F_{b}$\n",
    "* 9:  F# (Fa diesis) = $2^{\\frac{9}{12}}F_{b}$\n",
    "* 10: G (Sol) = $2^{\\frac{10}{12}}F_{b}$\n",
    "* 11: G# (Sol diesis) = $2^{\\frac{11}{12}}F_{b}$\n",
    "\n",
    "Why are there 12? just a historical notation. $F_b$ is also base frequency, for A4 it is 440Hz. for Ak it is equal to $2^{k-1}\\times 55 Hz$\n",
    "\n",
    "* These 12 half-steps form 6 full steps, this 6 steps are called a full Octave. \n",
    "* Each octave frequencies are 2x higher than previous Octave and $\\frac{1}{2}$ lower than next Octave."
   ]
  },
  {
   "cell_type": "code",
   "execution_count": 32,
   "metadata": {
    "colab": {},
    "colab_type": "code",
    "id": "aOpgXT4ZRG53"
   },
   "outputs": [],
   "source": [
    "notes_base = 2**(np.arange(12)/12)*27.5\n",
    "notes_duration = np.array([3200, 1600, 800, 400, 200, 100])*0.7\n",
    "notes_ann = ['A', 'A#', 'B', 'C', 'C#', 'D', 'Eb', 'E', 'F', 'F#', 'G', 'G#']\n",
    "\n",
    "def sin_wave(f, n, fs):\n",
    "    x = np.linspace(0, 2*np.pi, n)\n",
    "    ring = 30 \n",
    "    xp = np.linspace(0, -1*(n*ring/fs), n)\n",
    "    y = np.sin(x*f*(n/fs))*np.exp(xp)\n",
    "    z = np.zeros([n, 2])\n",
    "    z[:, 0] = y\n",
    "    z[:, 1] = y\n",
    "    return z\n",
    "\n",
    "def play_note(note_id, octave, dur, fs):\n",
    "    if (note_id < 3) :\n",
    "        octave += 1\n",
    "    y = sin_wave(notes_base[note_id]*2**octave, int(notes_duration[dur]*(fs/1000)), fs)\n",
    "    sd.play(y, fs)\n",
    "    sd.wait()\n",
    "    return \n",
    "\n",
    "def put_note(note_id, octave, dur, fs):\n",
    "    if (note_id < 3) :\n",
    "        octave += 1\n",
    "    y = sin_wave(notes_base[note_id]*2**octave, int(notes_duration[dur]*(fs/1000)), fs)\n",
    "    return y\n",
    "\n",
    "def get_music(music_notes, fs):\n",
    "    m = []\n",
    "    for item in music_notes:\n",
    "        y = put_note(item[0], item[1], item[2], fs)\n",
    "        m.append(y)\n",
    "    m = np.concatenate(m, 0)\n",
    "    return m\n",
    "\n",
    "fs1 = 44100\n",
    "music = [[8, 5, 3], [10, 5, 4], [10, 5, 4], [10, 5, 3], [10, 5, 3], [10, 5, 3], [10, 5, 3], [10, 5, 3], [10, 5, 3], \n",
    "        [11, 5, 4], [4, 5, 4], [11, 5, 4], [4, 5, 4], [11, 5, 4], [4, 5, 4], [11, 5, 4], [4, 5, 4], [3, 5, 3], \n",
    "        [8, 5, 4], [8, 5, 4], [8, 5, 3], [8, 5, 3], [8, 5, 3], [8, 5, 3], [8, 5, 3], [8, 5, 3], \n",
    "        [10, 5, 4], [3, 5, 4], [10, 5, 4], [3, 5, 4], [10, 5, 4], [3, 5, 4], [10, 5, 4], [3, 5, 4], [1, 4, 3]]\n",
    "\n",
    "y = get_music(music, fs1)\n",
    "sd.play(y, fs1)"
   ]
  },
  {
   "cell_type": "markdown",
   "metadata": {},
   "source": [
    "Playing C major scale:\n",
    "( https://en.wikipedia.org/wiki/C_major )"
   ]
  },
  {
   "cell_type": "code",
   "execution_count": 24,
   "metadata": {},
   "outputs": [],
   "source": [
    "Scale = [[3,4,3], [5,4,3], [7,4,3], [8,4,3], [10,4,3], [0,4,3], [2,4,3], [3,5,3], \n",
    "        [2,4,3], [0,4,3], [10,4,3], [8,4,3], [7,4,3], [5,4,3], [3,4,3]]\n",
    "\n",
    "y = get_music(Scale, fs1)\n",
    "sd.play(y, fs1)"
   ]
  },
  {
   "cell_type": "markdown",
   "metadata": {},
   "source": [
    "The End."
   ]
  }
 ],
 "metadata": {
  "colab": {
   "collapsed_sections": [],
   "name": "CourseProject",
   "provenance": []
  },
  "kernelspec": {
   "display_name": "Python 3 (ipykernel)",
   "language": "python",
   "name": "python3"
  },
  "language_info": {
   "codemirror_mode": {
    "name": "ipython",
    "version": 3
   },
   "file_extension": ".py",
   "mimetype": "text/x-python",
   "name": "python",
   "nbconvert_exporter": "python",
   "pygments_lexer": "ipython3",
   "version": "3.10.9"
  }
 },
 "nbformat": 4,
 "nbformat_minor": 4
}
