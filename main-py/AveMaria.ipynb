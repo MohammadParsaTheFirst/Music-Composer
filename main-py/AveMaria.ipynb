{
 "cells": [
  {
   "cell_type": "code",
   "execution_count": 3,
   "id": "f06b656d",
   "metadata": {},
   "outputs": [],
   "source": [
    "import cv2 as cv\n",
    "import numpy as np\n",
    "from matplotlib import pyplot as plt\n",
    "import pydub\n",
    "import sounddevice as sd\n",
    "from matplotlib import pyplot as plt\n",
    "from scipy.io.wavfile import read, write"
   ]
  },
  {
   "cell_type": "code",
   "execution_count": 4,
   "id": "caea6e2a",
   "metadata": {},
   "outputs": [],
   "source": [
    "img = cv.imread(\"AveMaria.png\", cv.IMREAD_GRAYSCALE)"
   ]
  },
  {
   "cell_type": "code",
   "execution_count": 5,
   "id": "670a373e",
   "metadata": {},
   "outputs": [],
   "source": [
    "def detectLines(img):\n",
    "    dst = cv.Canny(img, 50, 200, None, 3)\n",
    "\n",
    "    cdst = cv.cvtColor(dst, cv.COLOR_GRAY2BGR)\n",
    "\n",
    "    linesP = cv.HoughLinesP(dst, 1, np.pi / 180, 50, None, 50, 10)\n",
    "\n",
    "    lines_x = []\n",
    "    lines_y = []\n",
    "\n",
    "    for i in range(0, len(linesP)):\n",
    "        l = linesP[i][0]\n",
    "\n",
    "        if (abs(l[0] - l[2]) <= 1):\n",
    "            continue\n",
    "\n",
    "        if (lines_x == [] or lines_y == []):\n",
    "            lines_x.append(l[0])\n",
    "            lines_y.append(l[1])\n",
    "\n",
    "        if (abs(lines_y[-1] - l[1]) < 1):\n",
    "            continue\n",
    "        else:\n",
    "            lines_x.append(l[0])\n",
    "            lines_y.append(l[1])\n",
    "\n",
    "    lines_x = np.asarray(lines_x)\n",
    "    lines_y = np.asarray(lines_y)\n",
    "\n",
    "    index = np.argsort(lines_y)\n",
    "    lines_x = lines_x[index]\n",
    "    lines_y = lines_y[index]\n",
    "\n",
    "    diff = np.diff(lines_y)\n",
    "    indices_toKeep = [0]\n",
    "    for i in range(diff.shape[-1]):\n",
    "        if (diff[i] > 5):\n",
    "            indices_toKeep.append(i+1)\n",
    "\n",
    "    lines_x = lines_x[indices_toKeep]\n",
    "    lines_y = lines_y[indices_toKeep]\n",
    "\n",
    "    for i in range(lines_y.shape[-1]):\n",
    "        cv.line(cdst, (0, lines_y[i]), (1740, lines_y[i]), (0,0,255), 3, cv.LINE_AA)\n",
    "    \n",
    "    return lines_x, lines_y, cdst"
   ]
  },
  {
   "cell_type": "code",
   "execution_count": 6,
   "id": "2c642508",
   "metadata": {},
   "outputs": [
    {
     "data": {
      "image/png": "[encoded data removed]",
      "text/plain": [
       "<Figure size 640x480 with 1 Axes>"
      ]
     },
     "metadata": {},
     "output_type": "display_data"
    }
   ],
   "source": [
    "lines_x, lines_y, cdst = detectLines(img)\n",
    "\n",
    "_ = plt.imshow(cdst[:,:,(2,1,0)])\n",
    "_ = plt.xticks([])\n",
    "_ = plt.yticks([])\n",
    "_ = plt.box(0)"
   ]
  },
  {
   "cell_type": "code",
   "execution_count": 7,
   "id": "c30d5459",
   "metadata": {},
   "outputs": [],
   "source": [
    "def detectNotes(img, template, threshold, dur):\n",
    "    img2 = img.copy()\n",
    "    \n",
    "    w, h = template.shape[::-1]\n",
    "\n",
    "    res = cv.matchTemplate(img, template, cv.TM_CCOEFF_NORMED)\n",
    "    loc = np.where( res >= threshold)\n",
    "    \n",
    "    rects = list(zip(*loc[::-1], loc[0].shape[0]*[dur]))\n",
    "    rects = sorted(rects, key = lambda x: (x[0], x[1]))\n",
    "    rects = np.asarray(rects)\n",
    "    \n",
    "    keep = [0]\n",
    "    x_margin = 20\n",
    "    y_margin = 20\n",
    "    prev_x = rects[0][0]\n",
    "    prev_y = rects[0][1]\n",
    "\n",
    "    for i in range(1, rects.shape[0]):\n",
    "        if (abs(rects[i][0] - prev_x) > x_margin or abs(rects[i][1] - prev_y) > y_margin):\n",
    "            keep.append(i)\n",
    "            prev_x = rects[i][0]\n",
    "            prev_y = rects[i][1]\n",
    "\n",
    "    rects = rects[keep]\n",
    "\n",
    "    for pt in rects:\n",
    "        cv.rectangle(img2, pt[0:2], (pt[0] + w, pt[1] + h), (0,0,255), 2)\n",
    "    \n",
    "    rects = rects + [0, h - 7 if dur == 4 else h - 11, 0]\n",
    "    \n",
    "    return rects, img2\n",
    "\n",
    "def attachNotes(rectsQ, rectsH, rectsW):\n",
    "    rects = np.ndarray.tolist(rectsQ)\n",
    "    rects.extend(np.ndarray.tolist(rectsH))\n",
    "    rects.extend(np.ndarray.tolist(rectsW))\n",
    "\n",
    "    rects = sorted(rects, key = lambda x: (x[0], x[1]))\n",
    "    \n",
    "    rects = np.asarray(rects)\n",
    "    \n",
    "    return rects"
   ]
  },
  {
   "cell_type": "code",
   "execution_count": 11,
   "id": "9e78d833",
   "metadata": {},
   "outputs": [
    {
     "data": {
      "image/png": "[encoded data removed]",
      "text/plain": [
       "<Figure size 640x480 with 1 Axes>"
      ]
     },
     "metadata": {},
     "output_type": "display_data"
    }
   ],
   "source": [
    "template1 = cv.imread(\"quarter.PNG\", cv.IMREAD_GRAYSCALE)\n",
    "template2 = cv.imread(\"half.PNG\", cv.IMREAD_GRAYSCALE)\n",
    "template3 = cv.imread(\"whole.PNG\", cv.IMREAD_GRAYSCALE)\n",
    "\n",
    "thresholdQ = 0.7\n",
    "thresholdH = 0.75\n",
    "thresholdW = 0.5\n",
    "\n",
    "rectsQ, imgQ = detectNotes(img, template1, thresholdQ, 4)\n",
    "rectsH, imgH = detectNotes(img, template2, thresholdH, 2)\n",
    "rectsW, imgW = detectNotes(img, template3, thresholdW, 0)\n",
    "\n",
    "rects = attachNotes(rectsQ, rectsH, rectsW)\n",
    "\n",
    "_ = plt.imshow(imgQ, cmap = plt.cm.gray)\n",
    "_ = plt.xticks([])\n",
    "_ = plt.yticks([])\n",
    "_ = plt.box(0)"
   ]
  },
  {
   "cell_type": "code",
   "execution_count": 137,
   "id": "3cc01edd",
   "metadata": {},
   "outputs": [],
   "source": [
    "def compile_Music(rects):\n",
    "    onLine_margin = 4\n",
    "    betweenLine_margin = 10\n",
    "\n",
    "    music_lines = []\n",
    "\n",
    "    for note in rects:\n",
    "        diffs = abs(lines_y - note[1])\n",
    "        potentials = np.argsort(diffs)\n",
    "\n",
    "        if (diffs[potentials[0]] <= onLine_margin):\n",
    "            music_lines.append(potentials[0] + 1)\n",
    "        elif (diffs[potentials[0]] <= betweenLine_margin):\n",
    "            music_lines.append((potentials[0] + potentials[1])/2 + 1)\n",
    "        else:\n",
    "            music_lines.append(5.5)\n",
    "            \n",
    "    compiled_music = []\n",
    "\n",
    "    for i, note in enumerate(music_lines):\n",
    "        if (note == 6):\n",
    "            compiled_music.append([3,4,rects[i][2]])\n",
    "        elif (note == 5.5):\n",
    "            compiled_music.append([5,4,rects[i][2]])\n",
    "        elif (note == 5):\n",
    "            compiled_music.append([7,4,rects[i][2]])\n",
    "        elif (note == 4.5):\n",
    "            compiled_music.append([8,4,rects[i][2]])\n",
    "        elif (note == 4):\n",
    "            compiled_music.append([10,4,rects[i][2]])\n",
    "        elif (note == 3.5):\n",
    "            compiled_music.append([0,4,rects[i][2]])\n",
    "            \n",
    "    return compiled_music"
   ]
  },
  {
   "cell_type": "code",
   "execution_count": 138,
   "id": "366c398a",
   "metadata": {},
   "outputs": [],
   "source": [
    "compiled_music = compile_Music(rects)"
   ]
  },
  {
   "cell_type": "code",
   "execution_count": 140,
   "id": "323f82ab",
   "metadata": {},
   "outputs": [],
   "source": [
    "def getDurations(tempo, fs):\n",
    "    whole_note = 4*60*fs/tempo\n",
    "    durs = np.array([[whole_note/(2**i),dotted(whole_note/(2**i))] for i in range(6)])\n",
    "    \n",
    "    return durs.flatten()\n",
    "\n",
    "def dotted(dur):\n",
    "    return dur*1.5\n",
    "\n",
    "def sin_wave(f, n, fs):\n",
    "    x = np.linspace(0, 2*np.pi, n)\n",
    "    xp = np.linspace(0, -1*(n*ring/fs), n)\n",
    "    y = np.sin(x*f*(n/fs))*np.exp(xp)\n",
    "    z = np.zeros([n, 2])\n",
    "    z[:, 0] = y\n",
    "    z[:, 1] = y\n",
    "    return z\n",
    "\n",
    "def play_note(note_id, octave, dur, fs):\n",
    "    if (note_id < 3) :\n",
    "        octave += 1\n",
    "    y = sin_wave(notes_base[note_id]*2**octave, int(notes_duration[dur]), fs)\n",
    "    sd.play(y, fs)\n",
    "    sd.wait()\n",
    "    return \n",
    "\n",
    "def put_note(note_id, octave, dur, fs):\n",
    "    if (note_id < 3) :\n",
    "        octave += 1\n",
    "    y = sin_wave(notes_base[note_id]*2**octave, int(notes_duration[dur]), fs)\n",
    "    return y\n",
    "\n",
    "def get_music(music_notes, fs):\n",
    "    m = []\n",
    "    for item in music_notes:\n",
    "        y = put_note(item[0], item[1], item[2], fs)\n",
    "        m.append(y)\n",
    "    m = np.concatenate(m, 0)\n",
    "    return m"
   ]
  },
  {
   "cell_type": "code",
   "execution_count": 142,
   "id": "4ee5b32f",
   "metadata": {},
   "outputs": [],
   "source": [
    "notes_base = 2**(np.arange(12)/12)*27.5 # A0; A4= 440 Hz\n",
    "tempo = 120\n",
    "ring = 3 # how long the sine wave rings. lower value = more ringing/sustain\n",
    "fs = 44100\n",
    "notes_duration = getDurations(tempo,fs)\n",
    "\"\"\"\n",
    "    Whole note = 0\n",
    "    Dotted whole note = 1\n",
    "    Half note = 2\n",
    "    Dotted half note = 3\n",
    "    Quarter note = 4\n",
    "    Dotted quarter note = 5\n",
    "    etc.\n",
    "\"\"\"\n",
    "notes_ann = ['A', 'A#', 'B', 'C', 'C#', 'D', 'Eb', 'E', 'F', 'F#', 'G', 'G#']\n",
    "\n",
    "avemaria = compiled_music\n",
    "\n",
    "y = get_music(avemaria, fs)\n",
    "sd.play(y, fs)"
   ]
  },
  {
   "cell_type": "code",
   "execution_count": 143,
   "id": "6f58ef55",
   "metadata": {},
   "outputs": [],
   "source": [
    "write(\"avemaria.wav\", fs, y.astype(np.float32))"
   ]
  }
 ],
 "metadata": {
  "kernelspec": {
   "display_name": "Python 3 (ipykernel)",
   "language": "python",
   "name": "python3"
  },
  "language_info": {
   "codemirror_mode": {
    "name": "ipython",
    "version": 3
   },
   "file_extension": ".py",
   "mimetype": "text/x-python",
   "name": "python",
   "nbconvert_exporter": "python",
   "pygments_lexer": "ipython3",
   "version": "3.11.0"
  }
 },
 "nbformat": 4,
 "nbformat_minor": 5
}
